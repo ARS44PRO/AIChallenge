{
 "cells": [
  {
   "cell_type": "code",
   "execution_count": 8,
   "metadata": {},
   "outputs": [],
   "source": [
    "import pandas as pd\n",
    "from rnnoise_wrapper import RNNoise\n",
    "from pydub import AudioSegment"
   ]
  },
  {
   "cell_type": "code",
   "execution_count": 3,
   "metadata": {},
   "outputs": [],
   "source": [
    "train = pd.read_csv('data/train_gt.csv', header=None, names=['names', 'labels'])"
   ]
  },
  {
   "cell_type": "code",
   "execution_count": null,
   "metadata": {},
   "outputs": [],
   "source": [
    "for i in train['names'].tolist():\n",
    "\n",
    "    audio = AudioSegment.from_mp3(f'data/train/{i}')\n",
    "\n",
    "    if audio.frame_rate!=48000:\n",
    "        audio.set_frame_rate(48000)\n",
    "    if audio.sample_width!=2:\n",
    "        audio.set_sample_width(2)\n",
    "    if audio.channels!=1:\n",
    "        audio.set_channels(1)\n",
    "\n",
    "    denoiser = RNNoise()\n",
    "\n",
    "    denoised_audio = denoiser.filter(audio)\n",
    "    denoised_audio.export(f'data/train_final/{i}', format=\"mp3\")"
   ]
  }
 ],
 "metadata": {
  "kernelspec": {
   "display_name": "venv",
   "language": "python",
   "name": "python3"
  },
  "language_info": {
   "codemirror_mode": {
    "name": "ipython",
    "version": 3
   },
   "file_extension": ".py",
   "mimetype": "text/x-python",
   "name": "python",
   "nbconvert_exporter": "python",
   "pygments_lexer": "ipython3",
   "version": "3.9.13"
  }
 },
 "nbformat": 4,
 "nbformat_minor": 2
}
