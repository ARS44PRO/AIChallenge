{
  "cells": [
    {
      "cell_type": "code",
      "execution_count": 1,
      "metadata": {
        "id": "1nPgcS8KkMAz"
      },
      "outputs": [],
      "source": [
        "DATA_PATH = '../data'\n",
        "TRAIN_DATA_PATH = f'{DATA_PATH}/train'\n",
        "TASK_DATA_PATH = f'{DATA_PATH}/test'\n",
        "TRAIN_FILENAME = f'{DATA_PATH}/train_gt.csv'\n",
        "TASK_FILENAME = f'{DATA_PATH}/test.csv'"
      ]
    },
    {
      "cell_type": "code",
      "execution_count": 2,
      "metadata": {
        "colab": {
          "base_uri": "https://localhost:8080/"
        },
        "id": "igiJruf6kMA0",
        "outputId": "333919b7-6ae9-424c-92c0-8eb34f38d0ab"
      },
      "outputs": [
        {
          "name": "stdout",
          "output_type": "stream",
          "text": [
            "{0: 0.7903573352486982, 1: 1.3610080395794681}\n"
          ]
        },
        {
          "name": "stderr",
          "output_type": "stream",
          "text": [
            "/opt/miniconda3/envs/mfcc-cnn/lib/python3.11/site-packages/tqdm/auto.py:21: TqdmWarning: IProgress not found. Please update jupyter and ipywidgets. See https://ipywidgets.readthedocs.io/en/stable/user_install.html\n",
            "  from .autonotebook import tqdm as notebook_tqdm\n"
          ]
        }
      ],
      "source": [
        "import pandas as pd\n",
        "import numpy as np\n",
        "from tqdm.auto import tqdm\n",
        "\n",
        "df = pd.read_csv(TRAIN_FILENAME, header=None, names=['audio', 'label'])\n",
        "df['audio'] = TRAIN_DATA_PATH + \"/\" + df['audio']\n",
        "\n",
        "x, y = df['audio'], df['label'].to_numpy().reshape(-1, 1)\n",
        "\n",
        "weight_for_0 = (1 / (len(y) - np.sum(y))) * (len(y) / 2.0)\n",
        "weight_for_1 = (1 / np.sum(y)) * (len(y) / 2.0)\n",
        "class_weight = {0: weight_for_0, 1: weight_for_1}\n",
        "print(class_weight)"
      ]
    },
    {
      "cell_type": "code",
      "execution_count": 3,
      "metadata": {
        "id": "WB16SNwlkMA1"
      },
      "outputs": [],
      "source": [
        "#from rnnoise_wrapper import RNNoise\n",
        "from pydub import AudioSegment\n",
        "import python_speech_features as psf\n",
        "\n",
        "\n",
        "def preprocess_function(audio_path):\n",
        "    segment = AudioSegment.from_mp3(audio_path)\n",
        "\n",
        "    inputs = psf.mfcc(\n",
        "        np.array(segment.get_array_of_samples()), segment.frame_rate\n",
        "    )\n",
        "\n",
        "    return inputs.reshape(-1, 13)"
      ]
    },
    {
      "cell_type": "code",
      "execution_count": 4,
      "metadata": {
        "id": "PRTQ_oSzkMA1"
      },
      "outputs": [],
      "source": [
        "# features_list = []\n",
        "\n",
        "# for audio in tqdm(x):\n",
        "#     features_list.append(preprocess_function(audio))\n",
        "\n",
        "# #features_list = pad_each(features_list)\n",
        "\n",
        "# #X = np.stack(features_list)"
      ]
    },
    {
      "cell_type": "code",
      "execution_count": 5,
      "metadata": {
        "id": "abwsWYg3ehxk"
      },
      "outputs": [],
      "source": [
        "# np.save(\"train\", X)"
      ]
    },
    {
      "cell_type": "code",
      "execution_count": 6,
      "metadata": {
        "id": "Hz5tXg8pmrUC"
      },
      "outputs": [],
      "source": [
        "X = np.load('train.npy').astype(float)"
      ]
    },
    {
      "cell_type": "code",
      "execution_count": 7,
      "metadata": {
        "id": "XJV8KFlJtSvU"
      },
      "outputs": [],
      "source": [
        "normalize = np.max(X)\n",
        "X /= normalize"
      ]
    },
    {
      "cell_type": "code",
      "execution_count": 8,
      "metadata": {
        "id": "TW8PMapf-1hg"
      },
      "outputs": [],
      "source": [
        "import tensorflow as tf\n",
        "# X = tf.keras.utils.pad_sequences(features_list, padding='post')"
      ]
    },
    {
      "cell_type": "code",
      "execution_count": 9,
      "metadata": {},
      "outputs": [],
      "source": [
        "diff = len(y) - sum(y) - sum(y)\n",
        "\n",
        "indexes = []\n",
        "\n",
        "for ind, i in enumerate(y):\n",
        "    if i == 0:\n",
        "        diff -= 1\n",
        "        indexes.append(ind)\n",
        "        if diff == 0:\n",
        "            break"
      ]
    },
    {
      "cell_type": "code",
      "execution_count": 10,
      "metadata": {},
      "outputs": [],
      "source": [
        "X = np.delete(X, indexes, axis=0)\n",
        "y = np.delete(y, indexes, axis=0)"
      ]
    },
    {
      "cell_type": "code",
      "execution_count": 11,
      "metadata": {},
      "outputs": [
        {
          "data": {
            "text/plain": [
              "((6468, 3955, 13), (6468, 1))"
            ]
          },
          "execution_count": 11,
          "metadata": {},
          "output_type": "execute_result"
        }
      ],
      "source": [
        "X.shape, y.shape"
      ]
    },
    {
      "cell_type": "code",
      "execution_count": 12,
      "metadata": {
        "colab": {
          "base_uri": "https://localhost:8080/"
        },
        "id": "7QAEvqA1-1hg",
        "outputId": "286d686e-5099-4fbc-ad79-0b9ff27c454b"
      },
      "outputs": [
        {
          "name": "stdout",
          "output_type": "stream",
          "text": [
            "Относительное количество положительный записей\n",
            "Вся выборка: [0.5]\n",
            "Обучающая выборка: [0.49569251]\n",
            "Валидационная выборка: [0.51004637]\n"
          ]
        }
      ],
      "source": [
        "from sklearn.model_selection import train_test_split\n",
        "\n",
        "X_train, X_test, y_train, y_test = train_test_split(X, y, test_size=0.3, random_state=42)\n",
        "\n",
        "print('Относительное количество положительный записей')\n",
        "print(f'Вся выборка: {sum(y) / len(y)}')\n",
        "print(f'Обучающая выборка: {sum(y_train) / len(y_train)}')\n",
        "print(f'Валидационная выборка: {sum(y_test) / len(y_test)}')"
      ]
    },
    {
      "cell_type": "code",
      "execution_count": 13,
      "metadata": {
        "id": "PrZ7eIgVkMA2"
      },
      "outputs": [],
      "source": [
        "import matplotlib.pyplot as plt\n",
        "import keras\n",
        "from tensorflow.keras.models import Sequential\n",
        "from tensorflow.keras.layers import Dense, Flatten, Embedding, Dropout, \\\n",
        "    LSTM, SimpleRNN, Conv2D, MaxPool2D, Masking, Conv1D, MaxPool1D\n",
        "from tensorflow.keras.callbacks import EarlyStopping, ModelCheckpoint\n",
        "from tensorflow.keras import Model"
      ]
    },
    {
      "cell_type": "code",
      "execution_count": 14,
      "metadata": {
        "id": "KnXvQjvnkMA2"
      },
      "outputs": [
        {
          "name": "stderr",
          "output_type": "stream",
          "text": [
            "2024-08-11 23:31:10.406034: I metal_plugin/src/device/metal_device.cc:1154] Metal device set to: Apple M1\n",
            "2024-08-11 23:31:10.406055: I metal_plugin/src/device/metal_device.cc:296] systemMemory: 16.00 GB\n",
            "2024-08-11 23:31:10.406060: I metal_plugin/src/device/metal_device.cc:313] maxCacheSize: 5.33 GB\n",
            "2024-08-11 23:31:10.406072: I tensorflow/core/common_runtime/pluggable_device/pluggable_device_factory.cc:305] Could not identify NUMA node of platform GPU ID 0, defaulting to 0. Your kernel may not have been built with NUMA support.\n",
            "2024-08-11 23:31:10.406085: I tensorflow/core/common_runtime/pluggable_device/pluggable_device_factory.cc:271] Created TensorFlow device (/job:localhost/replica:0/task:0/device:GPU:0 with 0 MB memory) -> physical PluggableDevice (device: 0, name: METAL, pci bus id: <undefined>)\n"
          ]
        }
      ],
      "source": [
        "class MyModel(Model):\n",
        "    def __init__(self):\n",
        "        super().__init__()\n",
        "        self.conv = Sequential([\n",
        "            #Embedding(input_dim=X.shape[1], output_dim=64, mask_zero=True),\n",
        "            Conv1D(32, 3, activation='relu'),\n",
        "            MaxPool1D(),\n",
        "            Conv1D(64, 3, activation='relu'),\n",
        "            MaxPool1D(),\n",
        "            Flatten(),\n",
        "            # Dense(10, activation='relu'),\n",
        "        ])\n",
        "        self.denses = Sequential([\n",
        "            LSTM(64),\n",
        "            Dense(64, activation='relu'),\n",
        "            Dropout(0.5),\n",
        "            Dense(32, activation='relu'),\n",
        "            Dropout(0.5),\n",
        "            Dense(1, activation='sigmoid'),\n",
        "        ])\n",
        "\n",
        "    def call(self, x):\n",
        "        x = self.conv(x)\n",
        "        x = tf.expand_dims(x, axis=1)\n",
        "        x = self.denses(x)\n",
        "\n",
        "        return x\n",
        "\n",
        "model = MyModel()\n",
        "\n",
        "# model.summary()"
      ]
    },
    {
      "cell_type": "code",
      "execution_count": 15,
      "metadata": {
        "id": "C9n0HMQXkMA3"
      },
      "outputs": [
        {
          "name": "stdout",
          "output_type": "stream",
          "text": [
            "Epoch 1/50\n"
          ]
        },
        {
          "name": "stderr",
          "output_type": "stream",
          "text": [
            "/opt/miniconda3/envs/mfcc-cnn/lib/python3.11/site-packages/keras/src/backend/tensorflow/nn.py:681: UserWarning: \"`binary_crossentropy` received `from_logits=True`, but the `output` argument was produced by a Sigmoid activation and thus does not represent logits. Was this intended?\n",
            "  output, from_logits = _get_logits(\n",
            "2024-08-11 23:31:12.155394: I tensorflow/core/grappler/optimizers/custom_graph_optimizer_registry.cc:117] Plugin optimizer for device_type GPU is enabled.\n"
          ]
        },
        {
          "name": "stdout",
          "output_type": "stream",
          "text": [
            "\u001b[1m142/142\u001b[0m \u001b[32m━━━━━━━━━━━━━━━━━━━━\u001b[0m\u001b[37m\u001b[0m \u001b[1m0s\u001b[0m 90ms/step - accuracy: 0.4799 - f1_score: 0.4273 - loss: 0.6936\n",
            "Epoch 1: val_f1_score improved from -inf to 0.00602, saving model to ./saves/rnn_mfcc_checkpoints/checkpoint.weights.h5\n",
            "\u001b[1m142/142\u001b[0m \u001b[32m━━━━━━━━━━━━━━━━━━━━\u001b[0m\u001b[37m\u001b[0m \u001b[1m17s\u001b[0m 107ms/step - accuracy: 0.4800 - f1_score: 0.4274 - loss: 0.6936 - val_accuracy: 0.4900 - val_f1_score: 0.0060 - val_loss: 0.6947\n",
            "Epoch 2/50\n",
            "\u001b[1m142/142\u001b[0m \u001b[32m━━━━━━━━━━━━━━━━━━━━\u001b[0m\u001b[37m\u001b[0m \u001b[1m0s\u001b[0m 89ms/step - accuracy: 0.5131 - f1_score: 0.4106 - loss: 0.6908\n",
            "Epoch 2: val_f1_score improved from 0.00602 to 0.34558, saving model to ./saves/rnn_mfcc_checkpoints/checkpoint.weights.h5\n",
            "\u001b[1m142/142\u001b[0m \u001b[32m━━━━━━━━━━━━━━━━━━━━\u001b[0m\u001b[37m\u001b[0m \u001b[1m14s\u001b[0m 100ms/step - accuracy: 0.5131 - f1_score: 0.4113 - loss: 0.6908 - val_accuracy: 0.5044 - val_f1_score: 0.3456 - val_loss: 0.6938\n",
            "Epoch 3/50\n",
            "\u001b[1m142/142\u001b[0m \u001b[32m━━━━━━━━━━━━━━━━━━━━\u001b[0m\u001b[37m\u001b[0m \u001b[1m0s\u001b[0m 89ms/step - accuracy: 0.5791 - f1_score: 0.5691 - loss: 0.6763\n",
            "Epoch 3: val_f1_score improved from 0.34558 to 0.59030, saving model to ./saves/rnn_mfcc_checkpoints/checkpoint.weights.h5\n",
            "\u001b[1m142/142\u001b[0m \u001b[32m━━━━━━━━━━━━━━━━━━━━\u001b[0m\u001b[37m\u001b[0m \u001b[1m14s\u001b[0m 100ms/step - accuracy: 0.5790 - f1_score: 0.5692 - loss: 0.6763 - val_accuracy: 0.5301 - val_f1_score: 0.5903 - val_loss: 0.7029\n",
            "Epoch 4/50\n",
            "\u001b[1m142/142\u001b[0m \u001b[32m━━━━━━━━━━━━━━━━━━━━\u001b[0m\u001b[37m\u001b[0m \u001b[1m0s\u001b[0m 88ms/step - accuracy: 0.6443 - f1_score: 0.6692 - loss: 0.6152\n",
            "Epoch 4: val_f1_score did not improve from 0.59030\n",
            "\u001b[1m142/142\u001b[0m \u001b[32m━━━━━━━━━━━━━━━━━━━━\u001b[0m\u001b[37m\u001b[0m \u001b[1m14s\u001b[0m 98ms/step - accuracy: 0.6443 - f1_score: 0.6691 - loss: 0.6152 - val_accuracy: 0.5358 - val_f1_score: 0.5429 - val_loss: 0.7467\n",
            "Epoch 5/50\n",
            "\u001b[1m142/142\u001b[0m \u001b[32m━━━━━━━━━━━━━━━━━━━━\u001b[0m\u001b[37m\u001b[0m \u001b[1m0s\u001b[0m 89ms/step - accuracy: 0.7600 - f1_score: 0.7650 - loss: 0.4874\n",
            "Epoch 5: val_f1_score did not improve from 0.59030\n",
            "\u001b[1m142/142\u001b[0m \u001b[32m━━━━━━━━━━━━━━━━━━━━\u001b[0m\u001b[37m\u001b[0m \u001b[1m14s\u001b[0m 98ms/step - accuracy: 0.7600 - f1_score: 0.7649 - loss: 0.4874 - val_accuracy: 0.5214 - val_f1_score: 0.5209 - val_loss: 0.8347\n",
            "Epoch 6/50\n",
            "\u001b[1m142/142\u001b[0m \u001b[32m━━━━━━━━━━━━━━━━━━━━\u001b[0m\u001b[37m\u001b[0m \u001b[1m0s\u001b[0m 90ms/step - accuracy: 0.8525 - f1_score: 0.8584 - loss: 0.3252\n",
            "Epoch 6: val_f1_score did not improve from 0.59030\n",
            "\u001b[1m142/142\u001b[0m \u001b[32m━━━━━━━━━━━━━━━━━━━━\u001b[0m\u001b[37m\u001b[0m \u001b[1m14s\u001b[0m 100ms/step - accuracy: 0.8524 - f1_score: 0.8583 - loss: 0.3252 - val_accuracy: 0.5188 - val_f1_score: 0.4620 - val_loss: 1.2505\n",
            "Epoch 7/50\n",
            "\u001b[1m142/142\u001b[0m \u001b[32m━━━━━━━━━━━━━━━━━━━━\u001b[0m\u001b[37m\u001b[0m \u001b[1m0s\u001b[0m 89ms/step - accuracy: 0.9180 - f1_score: 0.9171 - loss: 0.1936\n",
            "Epoch 7: val_f1_score did not improve from 0.59030\n",
            "\u001b[1m142/142\u001b[0m \u001b[32m━━━━━━━━━━━━━━━━━━━━\u001b[0m\u001b[37m\u001b[0m \u001b[1m14s\u001b[0m 99ms/step - accuracy: 0.9179 - f1_score: 0.9170 - loss: 0.1936 - val_accuracy: 0.5162 - val_f1_score: 0.4306 - val_loss: 1.7260\n",
            "Epoch 8/50\n",
            "\u001b[1m142/142\u001b[0m \u001b[32m━━━━━━━━━━━━━━━━━━━━\u001b[0m\u001b[37m\u001b[0m \u001b[1m0s\u001b[0m 88ms/step - accuracy: 0.9690 - f1_score: 0.9690 - loss: 0.0971\n",
            "Epoch 8: val_f1_score did not improve from 0.59030\n",
            "\u001b[1m142/142\u001b[0m \u001b[32m━━━━━━━━━━━━━━━━━━━━\u001b[0m\u001b[37m\u001b[0m \u001b[1m14s\u001b[0m 98ms/step - accuracy: 0.9690 - f1_score: 0.9690 - loss: 0.0971 - val_accuracy: 0.5167 - val_f1_score: 0.4695 - val_loss: 2.1834\n",
            "Epoch 9/50\n",
            "\u001b[1m142/142\u001b[0m \u001b[32m━━━━━━━━━━━━━━━━━━━━\u001b[0m\u001b[37m\u001b[0m \u001b[1m0s\u001b[0m 89ms/step - accuracy: 0.9762 - f1_score: 0.9761 - loss: 0.0747\n",
            "Epoch 9: val_f1_score did not improve from 0.59030\n",
            "\u001b[1m142/142\u001b[0m \u001b[32m━━━━━━━━━━━━━━━━━━━━\u001b[0m\u001b[37m\u001b[0m \u001b[1m14s\u001b[0m 99ms/step - accuracy: 0.9762 - f1_score: 0.9761 - loss: 0.0747 - val_accuracy: 0.5399 - val_f1_score: 0.5646 - val_loss: 2.4513\n",
            "Epoch 10/50\n",
            "\u001b[1m142/142\u001b[0m \u001b[32m━━━━━━━━━━━━━━━━━━━━\u001b[0m\u001b[37m\u001b[0m \u001b[1m0s\u001b[0m 90ms/step - accuracy: 0.9819 - f1_score: 0.9818 - loss: 0.0514\n",
            "Epoch 10: val_f1_score did not improve from 0.59030\n",
            "\u001b[1m142/142\u001b[0m \u001b[32m━━━━━━━━━━━━━━━━━━━━\u001b[0m\u001b[37m\u001b[0m \u001b[1m14s\u001b[0m 100ms/step - accuracy: 0.9819 - f1_score: 0.9818 - loss: 0.0513 - val_accuracy: 0.5296 - val_f1_score: 0.5829 - val_loss: 2.6271\n",
            "Epoch 11/50\n",
            "\u001b[1m142/142\u001b[0m \u001b[32m━━━━━━━━━━━━━━━━━━━━\u001b[0m\u001b[37m\u001b[0m \u001b[1m0s\u001b[0m 89ms/step - accuracy: 0.9914 - f1_score: 0.9915 - loss: 0.0234\n",
            "Epoch 11: val_f1_score did not improve from 0.59030\n",
            "\u001b[1m142/142\u001b[0m \u001b[32m━━━━━━━━━━━━━━━━━━━━\u001b[0m\u001b[37m\u001b[0m \u001b[1m14s\u001b[0m 99ms/step - accuracy: 0.9914 - f1_score: 0.9915 - loss: 0.0234 - val_accuracy: 0.5240 - val_f1_score: 0.5295 - val_loss: 3.1278\n",
            "Epoch 12/50\n",
            "\u001b[1m142/142\u001b[0m \u001b[32m━━━━━━━━━━━━━━━━━━━━\u001b[0m\u001b[37m\u001b[0m \u001b[1m0s\u001b[0m 89ms/step - accuracy: 0.9974 - f1_score: 0.9974 - loss: 0.0094\n",
            "Epoch 12: val_f1_score did not improve from 0.59030\n",
            "\u001b[1m142/142\u001b[0m \u001b[32m━━━━━━━━━━━━━━━━━━━━\u001b[0m\u001b[37m\u001b[0m \u001b[1m14s\u001b[0m 99ms/step - accuracy: 0.9974 - f1_score: 0.9974 - loss: 0.0094 - val_accuracy: 0.5312 - val_f1_score: 0.5720 - val_loss: 3.3398\n",
            "Epoch 13/50\n",
            "\u001b[1m142/142\u001b[0m \u001b[32m━━━━━━━━━━━━━━━━━━━━\u001b[0m\u001b[37m\u001b[0m \u001b[1m0s\u001b[0m 90ms/step - accuracy: 0.9992 - f1_score: 0.9992 - loss: 0.0032\n",
            "Epoch 13: val_f1_score did not improve from 0.59030\n",
            "\u001b[1m142/142\u001b[0m \u001b[32m━━━━━━━━━━━━━━━━━━━━\u001b[0m\u001b[37m\u001b[0m \u001b[1m14s\u001b[0m 99ms/step - accuracy: 0.9992 - f1_score: 0.9992 - loss: 0.0032 - val_accuracy: 0.5265 - val_f1_score: 0.5511 - val_loss: 3.4564\n",
            "Epoch 13: early stopping\n"
          ]
        }
      ],
      "source": [
        "loss_fn = tf.keras.losses.BinaryCrossentropy(from_logits=True)\n",
        "optimizer = tf.keras.optimizers.Adam(learning_rate=0.001)\n",
        "#optimizer = tf.keras.optimizers.SGD(learning_rate=0.00001, momentum=0.8)\n",
        "\n",
        "custom_callbacks = [\n",
        "    EarlyStopping(\n",
        "        monitor='val_f1_score',\n",
        "        min_delta=1e-5,\n",
        "        patience=10,\n",
        "        verbose=1,\n",
        "        mode='auto',\n",
        "        baseline=None,\n",
        "        restore_best_weights=False\n",
        "    ),\n",
        "    ModelCheckpoint(\n",
        "        './saves/rnn_mfcc_checkpoints/checkpoint.weights.h5',\n",
        "        monitor='val_f1_score',\n",
        "        mode='max',\n",
        "        verbose=1,\n",
        "        save_best_only=True,\n",
        "        save_weights_only=True,\n",
        "        save_freq='epoch'\n",
        "    )\n",
        "]\n",
        "\n",
        "model.compile(\n",
        "    optimizer='adam',\n",
        "    loss=loss_fn,\n",
        "    metrics=['accuracy', tf.keras.metrics.F1Score(average='macro',\n",
        "                                                  threshold=0.5)]\n",
        ")\n",
        "\n",
        "hist = model.fit(\n",
        "    X_train, y_train,\n",
        "    epochs=50,\n",
        "    callbacks=custom_callbacks,\n",
        "    verbose=1,\n",
        "    validation_data=(X_test, y_test),\n",
        "#    shuffle=True,\n",
        "#    class_weight=class_weight\n",
        ")"
      ]
    },
    {
      "cell_type": "code",
      "execution_count": 16,
      "metadata": {
        "colab": {
          "base_uri": "https://localhost:8080/",
          "height": 418
        },
        "id": "CxyoeEVykMA4",
        "outputId": "0cb1373a-4723-4865-bb0e-169d587d85f4"
      },
      "outputs": [
        {
          "data": {
            "image/png": "[encoded data removed]",
            "text/plain": [
              "<Figure size 800x500 with 1 Axes>"
            ]
          },
          "metadata": {},
          "output_type": "display_data"
        }
      ],
      "source": [
        "pd.DataFrame(hist.history)[['f1_score', 'accuracy', 'val_f1_score', 'val_accuracy']].plot(figsize=(8,5))\n",
        "plt.show()"
      ]
    },
    {
      "cell_type": "code",
      "execution_count": 17,
      "metadata": {
        "colab": {
          "base_uri": "https://localhost:8080/",
          "height": 209
        },
        "id": "UIz-dOrs-1hi",
        "outputId": "453d4698-9bd4-4c44-c79f-298cb703b679"
      },
      "outputs": [
        {
          "data": {
            "text/html": [
              "<pre style=\"white-space:pre;overflow-x:auto;line-height:normal;font-family:Menlo,'DejaVu Sans Mono',consolas,'Courier New',monospace\"><span style=\"font-weight: bold\">Model: \"my_model\"</span>\n",
              "</pre>\n"
            ],
            "text/plain": [
              "\u001b[1mModel: \"my_model\"\u001b[0m\n"
            ]
          },
          "metadata": {},
          "output_type": "display_data"
        },
        {
          "data": {
            "text/html": [
              "<pre style=\"white-space:pre;overflow-x:auto;line-height:normal;font-family:Menlo,'DejaVu Sans Mono',consolas,'Courier New',monospace\">┏━━━━━━━━━━━━━━━━━━━━━━━━━━━━━━━━━┳━━━━━━━━━━━━━━━━━━━━━━━━┳━━━━━━━━━━━━━━━┓\n",
              "┃<span style=\"font-weight: bold\"> Layer (type)                    </span>┃<span style=\"font-weight: bold\"> Output Shape           </span>┃<span style=\"font-weight: bold\">       Param # </span>┃\n",
              "┡━━━━━━━━━━━━━━━━━━━━━━━━━━━━━━━━━╇━━━━━━━━━━━━━━━━━━━━━━━━╇━━━━━━━━━━━━━━━┩\n",
              "│ sequential (<span style=\"color: #0087ff; text-decoration-color: #0087ff\">Sequential</span>)         │ (<span style=\"color: #00d7ff; text-decoration-color: #00d7ff\">None</span>, <span style=\"color: #00af00; text-decoration-color: #00af00\">63168</span>)          │         <span style=\"color: #00af00; text-decoration-color: #00af00\">7,488</span> │\n",
              "├─────────────────────────────────┼────────────────────────┼───────────────┤\n",
              "│ sequential_1 (<span style=\"color: #0087ff; text-decoration-color: #0087ff\">Sequential</span>)       │ (<span style=\"color: #00d7ff; text-decoration-color: #00d7ff\">None</span>, <span style=\"color: #00af00; text-decoration-color: #00af00\">1</span>)              │    <span style=\"color: #00af00; text-decoration-color: #00af00\">16,193,921</span> │\n",
              "└─────────────────────────────────┴────────────────────────┴───────────────┘\n",
              "</pre>\n"
            ],
            "text/plain": [
              "┏━━━━━━━━━━━━━━━━━━━━━━━━━━━━━━━━━┳━━━━━━━━━━━━━━━━━━━━━━━━┳━━━━━━━━━━━━━━━┓\n",
              "┃\u001b[1m \u001b[0m\u001b[1mLayer (type)                   \u001b[0m\u001b[1m \u001b[0m┃\u001b[1m \u001b[0m\u001b[1mOutput Shape          \u001b[0m\u001b[1m \u001b[0m┃\u001b[1m \u001b[0m\u001b[1m      Param #\u001b[0m\u001b[1m \u001b[0m┃\n",
              "┡━━━━━━━━━━━━━━━━━━━━━━━━━━━━━━━━━╇━━━━━━━━━━━━━━━━━━━━━━━━╇━━━━━━━━━━━━━━━┩\n",
              "│ sequential (\u001b[38;5;33mSequential\u001b[0m)         │ (\u001b[38;5;45mNone\u001b[0m, \u001b[38;5;34m63168\u001b[0m)          │         \u001b[38;5;34m7,488\u001b[0m │\n",
              "├─────────────────────────────────┼────────────────────────┼───────────────┤\n",
              "│ sequential_1 (\u001b[38;5;33mSequential\u001b[0m)       │ (\u001b[38;5;45mNone\u001b[0m, \u001b[38;5;34m1\u001b[0m)              │    \u001b[38;5;34m16,193,921\u001b[0m │\n",
              "└─────────────────────────────────┴────────────────────────┴───────────────┘\n"
            ]
          },
          "metadata": {},
          "output_type": "display_data"
        },
        {
          "data": {
            "text/html": [
              "<pre style=\"white-space:pre;overflow-x:auto;line-height:normal;font-family:Menlo,'DejaVu Sans Mono',consolas,'Courier New',monospace\"><span style=\"font-weight: bold\"> Total params: </span><span style=\"color: #00af00; text-decoration-color: #00af00\">48,604,229</span> (185.41 MB)\n",
              "</pre>\n"
            ],
            "text/plain": [
              "\u001b[1m Total params: \u001b[0m\u001b[38;5;34m48,604,229\u001b[0m (185.41 MB)\n"
            ]
          },
          "metadata": {},
          "output_type": "display_data"
        },
        {
          "data": {
            "text/html": [
              "<pre style=\"white-space:pre;overflow-x:auto;line-height:normal;font-family:Menlo,'DejaVu Sans Mono',consolas,'Courier New',monospace\"><span style=\"font-weight: bold\"> Trainable params: </span><span style=\"color: #00af00; text-decoration-color: #00af00\">16,201,409</span> (61.80 MB)\n",
              "</pre>\n"
            ],
            "text/plain": [
              "\u001b[1m Trainable params: \u001b[0m\u001b[38;5;34m16,201,409\u001b[0m (61.80 MB)\n"
            ]
          },
          "metadata": {},
          "output_type": "display_data"
        },
        {
          "data": {
            "text/html": [
              "<pre style=\"white-space:pre;overflow-x:auto;line-height:normal;font-family:Menlo,'DejaVu Sans Mono',consolas,'Courier New',monospace\"><span style=\"font-weight: bold\"> Non-trainable params: </span><span style=\"color: #00af00; text-decoration-color: #00af00\">0</span> (0.00 B)\n",
              "</pre>\n"
            ],
            "text/plain": [
              "\u001b[1m Non-trainable params: \u001b[0m\u001b[38;5;34m0\u001b[0m (0.00 B)\n"
            ]
          },
          "metadata": {},
          "output_type": "display_data"
        },
        {
          "data": {
            "text/html": [
              "<pre style=\"white-space:pre;overflow-x:auto;line-height:normal;font-family:Menlo,'DejaVu Sans Mono',consolas,'Courier New',monospace\"><span style=\"font-weight: bold\"> Optimizer params: </span><span style=\"color: #00af00; text-decoration-color: #00af00\">32,402,820</span> (123.61 MB)\n",
              "</pre>\n"
            ],
            "text/plain": [
              "\u001b[1m Optimizer params: \u001b[0m\u001b[38;5;34m32,402,820\u001b[0m (123.61 MB)\n"
            ]
          },
          "metadata": {},
          "output_type": "display_data"
        }
      ],
      "source": [
        "model.summary()"
      ]
    },
    {
      "cell_type": "code",
      "execution_count": 18,
      "metadata": {
        "id": "AkmInpbvpqgO"
      },
      "outputs": [],
      "source": [
        "model.load_weights('./saves/rnn_mfcc_checkpoints/checkpoint.weights.h5')"
      ]
    },
    {
      "cell_type": "code",
      "execution_count": 19,
      "metadata": {
        "colab": {
          "base_uri": "https://localhost:8080/"
        },
        "id": "1334TQYqFODP",
        "outputId": "de546a25-79ef-4ef7-fe8c-834baece7b0f"
      },
      "outputs": [
        {
          "name": "stdout",
          "output_type": "stream",
          "text": [
            "\u001b[1m203/203\u001b[0m \u001b[32m━━━━━━━━━━━━━━━━━━━━\u001b[0m\u001b[37m\u001b[0m \u001b[1m4s\u001b[0m 21ms/step\n",
            "0.5251172312852698\n",
            "\u001b[1m203/203\u001b[0m \u001b[32m━━━━━━━━━━━━━━━━━━━━\u001b[0m\u001b[37m\u001b[0m \u001b[1m5s\u001b[0m 24ms/step - accuracy: 0.6926 - f1_score: 0.7692 - loss: 0.6201\n"
          ]
        },
        {
          "data": {
            "text/plain": [
              "{'accuracy': 0.6229128241539001,\n",
              " 'f1_score': 0.6738868355751038,\n",
              " 'loss': 0.6443223357200623}"
            ]
          },
          "execution_count": 19,
          "metadata": {},
          "output_type": "execute_result"
        }
      ],
      "source": [
        "pred = model.predict(X)\n",
        "print(np.sum(pred) / len(pred))\n",
        "model.evaluate(X, y, return_dict=True)"
      ]
    },
    {
      "cell_type": "code",
      "execution_count": 20,
      "metadata": {
        "colab": {
          "base_uri": "https://localhost:8080/"
        },
        "id": "jzcc8IRg-1hj",
        "outputId": "e0fc298c-b822-4123-8ef7-fcc72b129d71"
      },
      "outputs": [
        {
          "name": "stdout",
          "output_type": "stream",
          "text": [
            "\u001b[1m61/61\u001b[0m \u001b[32m━━━━━━━━━━━━━━━━━━━━\u001b[0m\u001b[37m\u001b[0m \u001b[1m1s\u001b[0m 21ms/step\n",
            "0.5227804837430771\n",
            "\u001b[1m61/61\u001b[0m \u001b[32m━━━━━━━━━━━━━━━━━━━━\u001b[0m\u001b[37m\u001b[0m \u001b[1m1s\u001b[0m 23ms/step - accuracy: 0.5320 - f1_score: 0.5883 - loss: 0.7025\n"
          ]
        },
        {
          "data": {
            "text/plain": [
              "{'accuracy': 0.5301390886306763,\n",
              " 'f1_score': 0.5902964472770691,\n",
              " 'loss': 0.7029058933258057}"
            ]
          },
          "execution_count": 20,
          "metadata": {},
          "output_type": "execute_result"
        }
      ],
      "source": [
        "pred = model.predict(X_test)\n",
        "print(np.sum(pred) / len(pred))\n",
        "model.evaluate(X_test, y_test, return_dict=True)"
      ]
    },
    {
      "cell_type": "code",
      "execution_count": 21,
      "metadata": {
        "id": "tBrwQRaPmVHl"
      },
      "outputs": [],
      "source": [
        "model.save('saves/rnn_mfcc.keras')"
      ]
    },
    {
      "cell_type": "markdown",
      "metadata": {
        "id": "UQir61AI-1hj"
      },
      "source": [
        "## Task"
      ]
    },
    {
      "cell_type": "code",
      "execution_count": 22,
      "metadata": {
        "id": "1gVa6Mi7-1hk"
      },
      "outputs": [],
      "source": [
        "task = pd.read_csv(TASK_FILENAME, header=None, names=['audio', 'label'])\n",
        "task['audio'] = TASK_DATA_PATH + \"/\" + task['audio']\n",
        "\n",
        "task_x = task['audio']"
      ]
    },
    {
      "cell_type": "code",
      "execution_count": 23,
      "metadata": {
        "id": "Oq9teWIi-1hl"
      },
      "outputs": [],
      "source": [
        "# task_features_list = []\n",
        "\n",
        "# for audio in tqdm(task_x):\n",
        "#     task_features_list.append(preprocess_function(audio))\n",
        "\n",
        "# task_X = tf.keras.utils.pad_sequences(task_features_list, padding='post')\n",
        "# task_X = task_X[:, :X.shape[1], :]"
      ]
    },
    {
      "cell_type": "code",
      "execution_count": 24,
      "metadata": {
        "id": "qgODkMfdetCJ"
      },
      "outputs": [],
      "source": [
        "# np.save(\"test\", task_X)"
      ]
    },
    {
      "cell_type": "code",
      "execution_count": 25,
      "metadata": {
        "id": "xFPaNXg1pgOu"
      },
      "outputs": [],
      "source": [
        "task_X = np.load('test.npy').astype(float)\n",
        "task_X /= normalize"
      ]
    },
    {
      "cell_type": "code",
      "execution_count": 26,
      "metadata": {
        "colab": {
          "base_uri": "https://localhost:8080/"
        },
        "id": "0UW3wwf3-1hl",
        "outputId": "f952d971-5fd5-4e54-f723-8188515e40f1"
      },
      "outputs": [
        {
          "data": {
            "text/plain": [
              "((2870, 3955, 13), (6468, 3955, 13))"
            ]
          },
          "execution_count": 26,
          "metadata": {},
          "output_type": "execute_result"
        }
      ],
      "source": [
        "task_X.shape, X.shape"
      ]
    },
    {
      "cell_type": "code",
      "execution_count": 27,
      "metadata": {
        "colab": {
          "base_uri": "https://localhost:8080/"
        },
        "id": "0gTzlvE_-1hl",
        "outputId": "b47d915d-93c4-4c3c-df9a-214da32885fb"
      },
      "outputs": [
        {
          "name": "stdout",
          "output_type": "stream",
          "text": [
            "\u001b[1m90/90\u001b[0m \u001b[32m━━━━━━━━━━━━━━━━━━━━\u001b[0m\u001b[37m\u001b[0m \u001b[1m2s\u001b[0m 21ms/step\n"
          ]
        }
      ],
      "source": [
        "task_y = model.predict(task_X)\n",
        "task_y = np.round(task_y).astype(int)"
      ]
    },
    {
      "cell_type": "code",
      "execution_count": 28,
      "metadata": {
        "colab": {
          "base_uri": "https://localhost:8080/"
        },
        "id": "2FLq71PjUtUV",
        "outputId": "a19b4c18-1f89-48cd-f7b8-5c31ad0470d3"
      },
      "outputs": [
        {
          "data": {
            "text/plain": [
              "0.651219512195122"
            ]
          },
          "execution_count": 28,
          "metadata": {},
          "output_type": "execute_result"
        }
      ],
      "source": [
        "np.sum(task_y) / len(task_y)"
      ]
    },
    {
      "cell_type": "code",
      "execution_count": 29,
      "metadata": {
        "id": "G3oaIdY7-1hl"
      },
      "outputs": [],
      "source": [
        "submit = pd.read_csv(TASK_FILENAME, header=None, names=['audio', 'label'])\n",
        "submit['label'] = task_y\n",
        "submit.to_csv('submit.csv', header=False, index=False)"
      ]
    }
  ],
  "metadata": {
    "accelerator": "GPU",
    "colab": {
      "gpuType": "T4",
      "provenance": []
    },
    "kernelspec": {
      "display_name": "Python 3",
      "name": "python3"
    },
    "language_info": {
      "codemirror_mode": {
        "name": "ipython",
        "version": 3
      },
      "file_extension": ".py",
      "mimetype": "text/x-python",
      "name": "python",
      "nbconvert_exporter": "python",
      "pygments_lexer": "ipython3",
      "version": "3.11.8"
    }
  },
  "nbformat": 4,
  "nbformat_minor": 0
}
