{
  "cells": [
    {
      "cell_type": "code",
      "execution_count": 1,
      "metadata": {
        "id": "1nPgcS8KkMAz"
      },
      "outputs": [],
      "source": [
        "DATA_PATH = '../data'\n",
        "TRAIN_DATA_PATH = f'{DATA_PATH}/train'\n",
        "TASK_DATA_PATH = f'{DATA_PATH}/test'\n",
        "TRAIN_FILENAME = f'{DATA_PATH}/train_gt.csv'\n",
        "TASK_FILENAME = f'{DATA_PATH}/test.csv'"
      ]
    },
    {
      "cell_type": "code",
      "execution_count": 2,
      "metadata": {
        "id": "igiJruf6kMA0"
      },
      "outputs": [
        {
          "name": "stdout",
          "output_type": "stream",
          "text": [
            "{0: 0.7903573352486982, 1: 1.3610080395794681}\n"
          ]
        },
        {
          "name": "stderr",
          "output_type": "stream",
          "text": [
            "/opt/miniconda3/envs/bank-cnn/lib/python3.11/site-packages/tqdm/auto.py:21: TqdmWarning: IProgress not found. Please update jupyter and ipywidgets. See https://ipywidgets.readthedocs.io/en/stable/user_install.html\n",
            "  from .autonotebook import tqdm as notebook_tqdm\n"
          ]
        }
      ],
      "source": [
        "import pandas as pd\n",
        "import numpy as np\n",
        "from tqdm.auto import tqdm\n",
        "\n",
        "df = pd.read_csv(TRAIN_FILENAME, header=None, names=['audio', 'label'])\n",
        "df['audio'] = TRAIN_DATA_PATH + \"/\" + df['audio']\n",
        "\n",
        "x, y = df['audio'], df['label'].to_numpy().reshape(-1, 1)\n",
        "\n",
        "weight_for_0 = (1 / (len(y) - np.sum(y))) * (len(y) / 2.0)\n",
        "weight_for_1 = (1 / np.sum(y)) * (len(y) / 2.0)\n",
        "class_weight = {0: weight_for_0, 1: weight_for_1}\n",
        "print(class_weight)"
      ]
    },
    {
      "cell_type": "code",
      "execution_count": 3,
      "metadata": {
        "id": "WB16SNwlkMA1"
      },
      "outputs": [
        {
          "name": "stderr",
          "output_type": "stream",
          "text": [
            "/opt/miniconda3/envs/bank-cnn/lib/python3.11/site-packages/transformers/audio_utils.py:297: UserWarning: At least one mel filter has all zero values. The value for `num_mel_filters` (128) may be set too high. Or, the value for `num_frequency_bins` (256) may be set too low.\n",
            "  warnings.warn(\n"
          ]
        }
      ],
      "source": [
        "import librosa\n",
        "import numpy as np\n",
        "from transformers import ASTFeatureExtractor\n",
        "\n",
        "feature_extractor = ASTFeatureExtractor()\n",
        "\n",
        "def preprocess_function(audio_path):\n",
        "    y, sr = librosa.load(audio_path)\n",
        "\n",
        "    inputs = feature_extractor(y, return_tensors='np', feature_size=-1, sampling_rate=16000) # Probably not 16000\n",
        "    return inputs['input_values'].reshape(1024, 128, 1)\n",
        "\n",
        "def pad_each(x, size=1500):\n",
        "    new_x = []\n",
        "\n",
        "    for i in tqdm(x):\n",
        "        if i.shape[0] > size:\n",
        "            new_x.append(i[:size])\n",
        "        else:\n",
        "            new_x.append(np.pad(i, [(0, size-len(i)), (0, 0), (0, 0)]))\n",
        "\n",
        "    return new_x"
      ]
    },
    {
      "cell_type": "code",
      "execution_count": null,
      "metadata": {
        "colab": {
          "base_uri": "https://localhost:8080/",
          "height": 463,
          "referenced_widgets": [
            "753c777e39e5495cb0f8f38290ca77dc",
            "0950661514264a6daacfe3dd9793c726",
            "ec209bb864fd4f54a1d6d7b51e78ddd2",
            "0d77867013ca47a0b9496fc35489173d",
            "c6fdb30ee0d34eafbfce98e612ffcb88",
            "fb8fbffffeb2401e85f07b30ef980ad5",
            "9f65b49be7824eebb1d4734eedf7ccf0",
            "9c9f6dd39b054519aebbce373e608d17",
            "2fef24fb96094342b1255f0781f9f7ce",
            "16febc3ca1db4f0e91623352e160176b",
            "755dd12181194d0abe8d68e88756b7b7"
          ]
        },
        "id": "PRTQ_oSzkMA1",
        "outputId": "ee75c6cf-55a9-474e-e125-984bf00dc08a"
      },
      "outputs": [
        {
          "name": "stderr",
          "output_type": "stream",
          "text": [
            "100%|██████████| 8803/8803 [03:25<00:00, 42.75it/s]\n"
          ]
        },
        {
          "ename": "",
          "evalue": "",
          "output_type": "error",
          "traceback": [
            "\u001b[1;31mnotebook controller is DISPOSED. \n",
            "\u001b[1;31mView Jupyter <a href='command:jupyter.viewOutput'>log</a> for further details."
          ]
        }
      ],
      "source": [
        "# features_list = []\n",
        "\n",
        "# for audio in tqdm(x):\n",
        "#     features_list.append(preprocess_function(audio))\n",
        "\n",
        "# X = np.stack(features_list)"
      ]
    },
    {
      "cell_type": "code",
      "execution_count": null,
      "metadata": {},
      "outputs": [
        {
          "ename": "",
          "evalue": "",
          "output_type": "error",
          "traceback": [
            "\u001b[1;31mnotebook controller is DISPOSED. \n",
            "\u001b[1;31mView Jupyter <a href='command:jupyter.viewOutput'>log</a> for further details."
          ]
        }
      ],
      "source": [
        "# np.save('../x_bank_cached.npy', X)"
      ]
    },
    {
      "cell_type": "code",
      "execution_count": 4,
      "metadata": {
        "id": "1GObqo4cH6ev"
      },
      "outputs": [],
      "source": [
        "X = np.load('../x_bank_cached.npy')"
      ]
    },
    {
      "cell_type": "code",
      "execution_count": 5,
      "metadata": {},
      "outputs": [
        {
          "name": "stdout",
          "output_type": "stream",
          "text": [
            "Относительное количество положительный записей\n",
            "Вся выборка: [0.36737476]\n",
            "Обучающая выборка: [0.3649789]\n",
            "Валидационная выборка: [0.37296479]\n"
          ]
        }
      ],
      "source": [
        "from sklearn.model_selection import train_test_split\n",
        "\n",
        "X_train, X_test, y_train, y_test = train_test_split(X, y, test_size=0.3, random_state=52)\n",
        "\n",
        "print('Относительное количество положительный записей')\n",
        "print(f'Вся выборка: {sum(y) / len(y)}')\n",
        "print(f'Обучающая выборка: {sum(y_train) / len(y_train)}')\n",
        "print(f'Валидационная выборка: {sum(y_test) / len(y_test)}')"
      ]
    },
    {
      "cell_type": "code",
      "execution_count": 6,
      "metadata": {
        "id": "PrZ7eIgVkMA2"
      },
      "outputs": [],
      "source": [
        "import maximal as ml\n",
        "from maximal.layers import Attention\n",
        "import tensorflow as tf\n",
        "import matplotlib.pyplot as plt\n",
        "import keras\n",
        "from tensorflow.keras.models import Sequential\n",
        "from tensorflow.keras.layers import Dense, Flatten, Conv2D, MaxPooling2D, Dropout\n",
        "from tensorflow.keras.callbacks import EarlyStopping, ModelCheckpoint\n",
        "from tensorflow.keras import Model"
      ]
    },
    {
      "cell_type": "code",
      "execution_count": 7,
      "metadata": {
        "id": "KnXvQjvnkMA2"
      },
      "outputs": [],
      "source": [
        "class MyModel(Model):\n",
        "  def __init__(self):\n",
        "    super().__init__()\n",
        "    self.conv = Sequential([\n",
        "      Conv2D(64, (3, 3), activation='relu'),\n",
        "      MaxPooling2D(pool_size=(6, 6)),\n",
        "      Conv2D(128, (3, 3), activation='relu'),\n",
        "      MaxPooling2D(pool_size=(6, 6)),\n",
        "      Conv2D(128, (3, 3), activation='relu'),\n",
        "    ])\n",
        "    self.attention = Attention(depth=3)\n",
        "    self.flatten = Flatten()\n",
        "    self.denses = Sequential([\n",
        "      Dense(256, activation='relu'),\n",
        "      Dense(1, activation='sigmoid')\n",
        "    ])\n",
        "\n",
        "\n",
        "  def call(self, x):\n",
        "    x = self.conv(x)\n",
        "    x = self.attention(x, x, x)\n",
        "    print(x.shape)\n",
        "    x = self.flatten(x)\n",
        "    x = self.denses(x)\n",
        "    return x\n",
        "\n",
        "model = MyModel()"
      ]
    },
    {
      "cell_type": "code",
      "execution_count": 8,
      "metadata": {
        "id": "C9n0HMQXkMA3"
      },
      "outputs": [
        {
          "name": "stderr",
          "output_type": "stream",
          "text": [
            "2024-08-05 13:42:10.427769: I metal_plugin/src/device/metal_device.cc:1154] Metal device set to: Apple M1\n",
            "2024-08-05 13:42:10.427802: I metal_plugin/src/device/metal_device.cc:296] systemMemory: 16.00 GB\n",
            "2024-08-05 13:42:10.427813: I metal_plugin/src/device/metal_device.cc:313] maxCacheSize: 5.33 GB\n",
            "2024-08-05 13:42:10.427839: I tensorflow/core/common_runtime/pluggable_device/pluggable_device_factory.cc:305] Could not identify NUMA node of platform GPU ID 0, defaulting to 0. Your kernel may not have been built with NUMA support.\n",
            "2024-08-05 13:42:10.427864: I tensorflow/core/common_runtime/pluggable_device/pluggable_device_factory.cc:271] Created TensorFlow device (/job:localhost/replica:0/task:0/device:GPU:0 with 0 MB memory) -> physical PluggableDevice (device: 0, name: METAL, pci bus id: <undefined>)\n"
          ]
        },
        {
          "name": "stdout",
          "output_type": "stream",
          "text": [
            "Epoch 1/200\n",
            "(None, 26, 1, 3)\n",
            "(None, 26, 1, 3)\n"
          ]
        },
        {
          "name": "stderr",
          "output_type": "stream",
          "text": [
            "/opt/miniconda3/envs/bank-cnn/lib/python3.11/site-packages/keras/src/backend/tensorflow/nn.py:681: UserWarning: \"`binary_crossentropy` received `from_logits=True`, but the `output` argument was produced by a Sigmoid activation and thus does not represent logits. Was this intended?\n",
            "  output, from_logits = _get_logits(\n",
            "2024-08-05 13:42:14.677912: I tensorflow/core/grappler/optimizers/custom_graph_optimizer_registry.cc:117] Plugin optimizer for device_type GPU is enabled.\n"
          ]
        },
        {
          "name": "stdout",
          "output_type": "stream",
          "text": [
            "(None, 26, 1, 3)\n",
            "\u001b[1m193/193\u001b[0m \u001b[32m━━━━━━━━━━━━━━━━━━━━\u001b[0m\u001b[37m\u001b[0m \u001b[1m0s\u001b[0m 479ms/step - accuracy: 0.4766 - f1_score: 0.4500 - loss: 0.6974(None, 26, 1, 3)\n",
            "\u001b[1m193/193\u001b[0m \u001b[32m━━━━━━━━━━━━━━━━━━━━\u001b[0m\u001b[37m\u001b[0m \u001b[1m116s\u001b[0m 588ms/step - accuracy: 0.4768 - f1_score: 0.4497 - loss: 0.6974 - val_accuracy: 0.6270 - val_f1_score: 0.0000e+00 - val_loss: 0.6882\n",
            "Epoch 2/200\n",
            "\u001b[1m 35/193\u001b[0m \u001b[32m━━━\u001b[0m\u001b[37m━━━━━━━━━━━━━━━━━\u001b[0m \u001b[1m1:33\u001b[0m 592ms/step - accuracy: 0.6059 - f1_score: 0.1671 - loss: 0.6944"
          ]
        }
      ],
      "source": [
        "loss_fn = tf.keras.losses.BinaryCrossentropy(from_logits=True)\n",
        "#optimizer = tf.keras.optimizers.Adam(learning_rate=0.001)\n",
        "optimizer = tf.keras.optimizers.SGD(momentum=0.5, learning_rate=0.01)\n",
        "\n",
        "custom_callbacks = [\n",
        "    EarlyStopping(\n",
        "        monitor='val_f1_score',\n",
        "        min_delta=1e-5,\n",
        "        patience=15,\n",
        "        verbose=0,\n",
        "        mode='auto',\n",
        "        baseline=None,\n",
        "        restore_best_weights=False\n",
        "    ),\n",
        "    ModelCheckpoint(\n",
        "        './saves/cnn_mfcc_checkpoints/checkpoint.weights.h5',\n",
        "        monitor='val_f1_score',\n",
        "        verbose=0,\n",
        "        save_best_only=True,\n",
        "        save_weights_only=True,\n",
        "        mode='auto',\n",
        "        save_freq='epoch'\n",
        "    )\n",
        "]\n",
        "\n",
        "model.compile(\n",
        "    optimizer='adam',\n",
        "    loss=loss_fn,\n",
        "    metrics=['accuracy', tf.keras.metrics.F1Score(average='macro',\n",
        "                                                  threshold=0.5)]\n",
        ")\n",
        "\n",
        "hist = model.fit(\n",
        "    X_train, y_train,\n",
        "    validation_data=(X_test, y_test),\n",
        "    validation_split=0.2, \n",
        "    epochs=200, \n",
        "    callbacks=custom_callbacks, \n",
        "    verbose=1, \n",
        "    shuffle=True, \n",
        "    class_weight=class_weight\n",
        ")"
      ]
    },
    {
      "cell_type": "code",
      "execution_count": null,
      "metadata": {
        "id": "CxyoeEVykMA4"
      },
      "outputs": [
        {
          "ename": "",
          "evalue": "",
          "output_type": "error",
          "traceback": [
            "\u001b[1;31mnotebook controller is DISPOSED. \n",
            "\u001b[1;31mView Jupyter <a href='command:jupyter.viewOutput'>log</a> for further details."
          ]
        }
      ],
      "source": [
        "pd.DataFrame(hist.history).plot(figsize=(8,5))\n",
        "plt.show()"
      ]
    },
    {
      "cell_type": "code",
      "execution_count": null,
      "metadata": {
        "id": "1334TQYqFODP"
      },
      "outputs": [
        {
          "ename": "",
          "evalue": "",
          "output_type": "error",
          "traceback": [
            "\u001b[1;31mnotebook controller is DISPOSED. \n",
            "\u001b[1;31mView Jupyter <a href='command:jupyter.viewOutput'>log</a> for further details."
          ]
        }
      ],
      "source": [
        "pred = model.predict(X)\n",
        "print(np.sum(pred) / len(pred))\n",
        "model.evaluate(X, y, return_dict=True)"
      ]
    },
    {
      "cell_type": "code",
      "execution_count": null,
      "metadata": {},
      "outputs": [
        {
          "ename": "",
          "evalue": "",
          "output_type": "error",
          "traceback": [
            "\u001b[1;31mnotebook controller is DISPOSED. \n",
            "\u001b[1;31mView Jupyter <a href='command:jupyter.viewOutput'>log</a> for further details."
          ]
        }
      ],
      "source": [
        "pred = model.predict(X_test)\n",
        "print(np.sum(pred) / len(pred))\n",
        "model.evaluate(X_test, y_test, return_dict=True)"
      ]
    },
    {
      "cell_type": "code",
      "execution_count": null,
      "metadata": {
        "id": "tBrwQRaPmVHl"
      },
      "outputs": [
        {
          "ename": "",
          "evalue": "",
          "output_type": "error",
          "traceback": [
            "\u001b[1;31mnotebook controller is DISPOSED. \n",
            "\u001b[1;31mView Jupyter <a href='command:jupyter.viewOutput'>log</a> for further details."
          ]
        }
      ],
      "source": [
        "model.save('saves/cnn_mfcc.keras')"
      ]
    },
    {
      "cell_type": "markdown",
      "metadata": {},
      "source": [
        "## Task"
      ]
    },
    {
      "cell_type": "code",
      "execution_count": null,
      "metadata": {},
      "outputs": [
        {
          "ename": "",
          "evalue": "",
          "output_type": "error",
          "traceback": [
            "\u001b[1;31mnotebook controller is DISPOSED. \n",
            "\u001b[1;31mView Jupyter <a href='command:jupyter.viewOutput'>log</a> for further details."
          ]
        }
      ],
      "source": [
        "stop"
      ]
    },
    {
      "cell_type": "code",
      "execution_count": null,
      "metadata": {},
      "outputs": [
        {
          "ename": "",
          "evalue": "",
          "output_type": "error",
          "traceback": [
            "\u001b[1;31mnotebook controller is DISPOSED. \n",
            "\u001b[1;31mView Jupyter <a href='command:jupyter.viewOutput'>log</a> for further details."
          ]
        }
      ],
      "source": [
        "task = pd.read_csv(TASK_FILENAME, header=None, names=['audio', 'label'])\n",
        "task['audio'] = TASK_DATA_PATH + \"/\" + task['audio']\n",
        "\n",
        "task_x = task['audio']"
      ]
    },
    {
      "cell_type": "code",
      "execution_count": null,
      "metadata": {},
      "outputs": [
        {
          "ename": "",
          "evalue": "",
          "output_type": "error",
          "traceback": [
            "\u001b[1;31mnotebook controller is DISPOSED. \n",
            "\u001b[1;31mView Jupyter <a href='command:jupyter.viewOutput'>log</a> for further details."
          ]
        }
      ],
      "source": [
        "task_features_list = []\n",
        "\n",
        "for audio in tqdm(task_x):\n",
        "    task_features_list.append(preprocess_function(audio))\n",
        "\n",
        "task_features_list = pad_each(task_features_list)\n",
        "\n",
        "task_X = np.stack(task_features_list)"
      ]
    },
    {
      "cell_type": "code",
      "execution_count": null,
      "metadata": {},
      "outputs": [
        {
          "ename": "",
          "evalue": "",
          "output_type": "error",
          "traceback": [
            "\u001b[1;31mnotebook controller is DISPOSED. \n",
            "\u001b[1;31mView Jupyter <a href='command:jupyter.viewOutput'>log</a> for further details."
          ]
        }
      ],
      "source": [
        "task_y = model.predict(task_X)\n",
        "task_y = np.round(task_y).astype(int)"
      ]
    },
    {
      "cell_type": "code",
      "execution_count": null,
      "metadata": {},
      "outputs": [
        {
          "ename": "",
          "evalue": "",
          "output_type": "error",
          "traceback": [
            "\u001b[1;31mnotebook controller is DISPOSED. \n",
            "\u001b[1;31mView Jupyter <a href='command:jupyter.viewOutput'>log</a> for further details."
          ]
        }
      ],
      "source": [
        "submit = pd.read_csv(TASK_FILENAME, header=None, names=['audio', 'label'])\n",
        "submit['label'] = task_y\n",
        "submit.to_csv('submit.csv', header=False, index=False)"
      ]
    }
  ],
  "metadata": {
    "accelerator": "GPU",
    "colab": {
      "gpuType": "A100",
      "machine_shape": "hm",
      "provenance": []
    },
    "kernelspec": {
      "display_name": "Python 3",
      "name": "python3"
    },
    "language_info": {
      "codemirror_mode": {
        "name": "ipython",
        "version": 3
      },
      "file_extension": ".py",
      "mimetype": "text/x-python",
      "name": "python",
      "nbconvert_exporter": "python",
      "pygments_lexer": "ipython3",
      "version": "3.11.8"
    },
    "widgets": {
      "application/vnd.jupyter.widget-state+json": {
        "0950661514264a6daacfe3dd9793c726": {
          "model_module": "@jupyter-widgets/controls",
          "model_module_version": "1.5.0",
          "model_name": "HTMLModel",
          "state": {
            "_dom_classes": [],
            "_model_module": "@jupyter-widgets/controls",
            "_model_module_version": "1.5.0",
            "_model_name": "HTMLModel",
            "_view_count": null,
            "_view_module": "@jupyter-widgets/controls",
            "_view_module_version": "1.5.0",
            "_view_name": "HTMLView",
            "description": "",
            "description_tooltip": null,
            "layout": "IPY_MODEL_fb8fbffffeb2401e85f07b30ef980ad5",
            "placeholder": "​",
            "style": "IPY_MODEL_9f65b49be7824eebb1d4734eedf7ccf0",
            "value": "  0%"
          }
        },
        "0d77867013ca47a0b9496fc35489173d": {
          "model_module": "@jupyter-widgets/controls",
          "model_module_version": "1.5.0",
          "model_name": "HTMLModel",
          "state": {
            "_dom_classes": [],
            "_model_module": "@jupyter-widgets/controls",
            "_model_module_version": "1.5.0",
            "_model_name": "HTMLModel",
            "_view_count": null,
            "_view_module": "@jupyter-widgets/controls",
            "_view_module_version": "1.5.0",
            "_view_name": "HTMLView",
            "description": "",
            "description_tooltip": null,
            "layout": "IPY_MODEL_16febc3ca1db4f0e91623352e160176b",
            "placeholder": "​",
            "style": "IPY_MODEL_755dd12181194d0abe8d68e88756b7b7",
            "value": " 0/8803 [00:00&lt;?, ?it/s]"
          }
        },
        "16febc3ca1db4f0e91623352e160176b": {
          "model_module": "@jupyter-widgets/base",
          "model_module_version": "1.2.0",
          "model_name": "LayoutModel",
          "state": {
            "_model_module": "@jupyter-widgets/base",
            "_model_module_version": "1.2.0",
            "_model_name": "LayoutModel",
            "_view_count": null,
            "_view_module": "@jupyter-widgets/base",
            "_view_module_version": "1.2.0",
            "_view_name": "LayoutView",
            "align_content": null,
            "align_items": null,
            "align_self": null,
            "border": null,
            "bottom": null,
            "display": null,
            "flex": null,
            "flex_flow": null,
            "grid_area": null,
            "grid_auto_columns": null,
            "grid_auto_flow": null,
            "grid_auto_rows": null,
            "grid_column": null,
            "grid_gap": null,
            "grid_row": null,
            "grid_template_areas": null,
            "grid_template_columns": null,
            "grid_template_rows": null,
            "height": null,
            "justify_content": null,
            "justify_items": null,
            "left": null,
            "margin": null,
            "max_height": null,
            "max_width": null,
            "min_height": null,
            "min_width": null,
            "object_fit": null,
            "object_position": null,
            "order": null,
            "overflow": null,
            "overflow_x": null,
            "overflow_y": null,
            "padding": null,
            "right": null,
            "top": null,
            "visibility": null,
            "width": null
          }
        },
        "2fef24fb96094342b1255f0781f9f7ce": {
          "model_module": "@jupyter-widgets/controls",
          "model_module_version": "1.5.0",
          "model_name": "ProgressStyleModel",
          "state": {
            "_model_module": "@jupyter-widgets/controls",
            "_model_module_version": "1.5.0",
            "_model_name": "ProgressStyleModel",
            "_view_count": null,
            "_view_module": "@jupyter-widgets/base",
            "_view_module_version": "1.2.0",
            "_view_name": "StyleView",
            "bar_color": null,
            "description_width": ""
          }
        },
        "753c777e39e5495cb0f8f38290ca77dc": {
          "model_module": "@jupyter-widgets/controls",
          "model_module_version": "1.5.0",
          "model_name": "HBoxModel",
          "state": {
            "_dom_classes": [],
            "_model_module": "@jupyter-widgets/controls",
            "_model_module_version": "1.5.0",
            "_model_name": "HBoxModel",
            "_view_count": null,
            "_view_module": "@jupyter-widgets/controls",
            "_view_module_version": "1.5.0",
            "_view_name": "HBoxView",
            "box_style": "",
            "children": [
              "IPY_MODEL_0950661514264a6daacfe3dd9793c726",
              "IPY_MODEL_ec209bb864fd4f54a1d6d7b51e78ddd2",
              "IPY_MODEL_0d77867013ca47a0b9496fc35489173d"
            ],
            "layout": "IPY_MODEL_c6fdb30ee0d34eafbfce98e612ffcb88"
          }
        },
        "755dd12181194d0abe8d68e88756b7b7": {
          "model_module": "@jupyter-widgets/controls",
          "model_module_version": "1.5.0",
          "model_name": "DescriptionStyleModel",
          "state": {
            "_model_module": "@jupyter-widgets/controls",
            "_model_module_version": "1.5.0",
            "_model_name": "DescriptionStyleModel",
            "_view_count": null,
            "_view_module": "@jupyter-widgets/base",
            "_view_module_version": "1.2.0",
            "_view_name": "StyleView",
            "description_width": ""
          }
        },
        "9c9f6dd39b054519aebbce373e608d17": {
          "model_module": "@jupyter-widgets/base",
          "model_module_version": "1.2.0",
          "model_name": "LayoutModel",
          "state": {
            "_model_module": "@jupyter-widgets/base",
            "_model_module_version": "1.2.0",
            "_model_name": "LayoutModel",
            "_view_count": null,
            "_view_module": "@jupyter-widgets/base",
            "_view_module_version": "1.2.0",
            "_view_name": "LayoutView",
            "align_content": null,
            "align_items": null,
            "align_self": null,
            "border": null,
            "bottom": null,
            "display": null,
            "flex": null,
            "flex_flow": null,
            "grid_area": null,
            "grid_auto_columns": null,
            "grid_auto_flow": null,
            "grid_auto_rows": null,
            "grid_column": null,
            "grid_gap": null,
            "grid_row": null,
            "grid_template_areas": null,
            "grid_template_columns": null,
            "grid_template_rows": null,
            "height": null,
            "justify_content": null,
            "justify_items": null,
            "left": null,
            "margin": null,
            "max_height": null,
            "max_width": null,
            "min_height": null,
            "min_width": null,
            "object_fit": null,
            "object_position": null,
            "order": null,
            "overflow": null,
            "overflow_x": null,
            "overflow_y": null,
            "padding": null,
            "right": null,
            "top": null,
            "visibility": null,
            "width": null
          }
        },
        "9f65b49be7824eebb1d4734eedf7ccf0": {
          "model_module": "@jupyter-widgets/controls",
          "model_module_version": "1.5.0",
          "model_name": "DescriptionStyleModel",
          "state": {
            "_model_module": "@jupyter-widgets/controls",
            "_model_module_version": "1.5.0",
            "_model_name": "DescriptionStyleModel",
            "_view_count": null,
            "_view_module": "@jupyter-widgets/base",
            "_view_module_version": "1.2.0",
            "_view_name": "StyleView",
            "description_width": ""
          }
        },
        "c6fdb30ee0d34eafbfce98e612ffcb88": {
          "model_module": "@jupyter-widgets/base",
          "model_module_version": "1.2.0",
          "model_name": "LayoutModel",
          "state": {
            "_model_module": "@jupyter-widgets/base",
            "_model_module_version": "1.2.0",
            "_model_name": "LayoutModel",
            "_view_count": null,
            "_view_module": "@jupyter-widgets/base",
            "_view_module_version": "1.2.0",
            "_view_name": "LayoutView",
            "align_content": null,
            "align_items": null,
            "align_self": null,
            "border": null,
            "bottom": null,
            "display": null,
            "flex": null,
            "flex_flow": null,
            "grid_area": null,
            "grid_auto_columns": null,
            "grid_auto_flow": null,
            "grid_auto_rows": null,
            "grid_column": null,
            "grid_gap": null,
            "grid_row": null,
            "grid_template_areas": null,
            "grid_template_columns": null,
            "grid_template_rows": null,
            "height": null,
            "justify_content": null,
            "justify_items": null,
            "left": null,
            "margin": null,
            "max_height": null,
            "max_width": null,
            "min_height": null,
            "min_width": null,
            "object_fit": null,
            "object_position": null,
            "order": null,
            "overflow": null,
            "overflow_x": null,
            "overflow_y": null,
            "padding": null,
            "right": null,
            "top": null,
            "visibility": null,
            "width": null
          }
        },
        "ec209bb864fd4f54a1d6d7b51e78ddd2": {
          "model_module": "@jupyter-widgets/controls",
          "model_module_version": "1.5.0",
          "model_name": "FloatProgressModel",
          "state": {
            "_dom_classes": [],
            "_model_module": "@jupyter-widgets/controls",
            "_model_module_version": "1.5.0",
            "_model_name": "FloatProgressModel",
            "_view_count": null,
            "_view_module": "@jupyter-widgets/controls",
            "_view_module_version": "1.5.0",
            "_view_name": "ProgressView",
            "bar_style": "danger",
            "description": "",
            "description_tooltip": null,
            "layout": "IPY_MODEL_9c9f6dd39b054519aebbce373e608d17",
            "max": 8803,
            "min": 0,
            "orientation": "horizontal",
            "style": "IPY_MODEL_2fef24fb96094342b1255f0781f9f7ce",
            "value": 0
          }
        },
        "fb8fbffffeb2401e85f07b30ef980ad5": {
          "model_module": "@jupyter-widgets/base",
          "model_module_version": "1.2.0",
          "model_name": "LayoutModel",
          "state": {
            "_model_module": "@jupyter-widgets/base",
            "_model_module_version": "1.2.0",
            "_model_name": "LayoutModel",
            "_view_count": null,
            "_view_module": "@jupyter-widgets/base",
            "_view_module_version": "1.2.0",
            "_view_name": "LayoutView",
            "align_content": null,
            "align_items": null,
            "align_self": null,
            "border": null,
            "bottom": null,
            "display": null,
            "flex": null,
            "flex_flow": null,
            "grid_area": null,
            "grid_auto_columns": null,
            "grid_auto_flow": null,
            "grid_auto_rows": null,
            "grid_column": null,
            "grid_gap": null,
            "grid_row": null,
            "grid_template_areas": null,
            "grid_template_columns": null,
            "grid_template_rows": null,
            "height": null,
            "justify_content": null,
            "justify_items": null,
            "left": null,
            "margin": null,
            "max_height": null,
            "max_width": null,
            "min_height": null,
            "min_width": null,
            "object_fit": null,
            "object_position": null,
            "order": null,
            "overflow": null,
            "overflow_x": null,
            "overflow_y": null,
            "padding": null,
            "right": null,
            "top": null,
            "visibility": null,
            "width": null
          }
        }
      }
    }
  },
  "nbformat": 4,
  "nbformat_minor": 0
}
