{
 "cells": [
  {
   "cell_type": "code",
   "execution_count": 2,
   "metadata": {},
   "outputs": [],
   "source": [
    "import tensorflow as tf\n",
    "import numpy as np\n",
    "import pydub"
   ]
  },
  {
   "cell_type": "code",
   "execution_count": null,
   "metadata": {},
   "outputs": [],
   "source": [
    "#Dataset preprocessing\n",
    "def load_wav_16k_mono(filename):\n",
    "    a = pydub.AudioSegment.from_mp3(filename)\n",
    "    y = np.array(a.get_array_of_samples())\n",
    "    return y\n",
    "\n",
    "\n",
    "def preprocess(file_path):\n",
    "    wav = load_wav_16k_mono(\"data/train/\" + file_path)\n",
    "    wav = wav.astype(np.float32, order='C')\n",
    "    spectrogram = tf.signal.stft(wav, frame_length=160, frame_step=128)\n",
    "    spectrogram = tf.abs(spectrogram)\n",
    "    spectrogram = tf.expand_dims(spectrogram, axis=2)\n",
    "    #print(spectrogram.shape)\n",
    "    spectrogram = np.pad(np.asarray(spectrogram), ((0,2500-spectrogram.shape[0]), (0,0), (0, 0)), 'constant')\n",
    "    return spectrogram\n",
    "\n",
    "\n",
    "\n",
    "X = []\n",
    "Y = []\n",
    "\n",
    "n = 0\n",
    "n_0 = 0\n",
    "with open(\"data/train_gt.csv\", 'r') as file:\n",
    "    for line in file:\n",
    "        audio_file, label = line.split(',')\n",
    "        if (int(label) == 0 and n_0 <= 3234) or int(label) == 1:\n",
    "            X.append(preprocess(audio_file))\n",
    "            Y.append(int(label))\n",
    "            if (int(label) == 0):\n",
    "                n_0 += 1\n",
    "            print(n)\n",
    "            n += 1\n"
   ]
  },
  {
   "cell_type": "code",
   "execution_count": null,
   "metadata": {},
   "outputs": [],
   "source": [
    "X"
   ]
  },
  {
   "cell_type": "code",
   "execution_count": null,
   "metadata": {},
   "outputs": [],
   "source": [
    "a = 0\n",
    "b = 0\n",
    "for i in Y:\n",
    "    if i == 1:\n",
    "        a += 1\n",
    "    else:\n",
    "        b += 1\n",
    "print(a, b)"
   ]
  },
  {
   "cell_type": "code",
   "execution_count": 25,
   "metadata": {},
   "outputs": [],
   "source": [
    "del X[1]\n",
    "del Y[1]"
   ]
  },
  {
   "cell_type": "code",
   "execution_count": 7,
   "metadata": {},
   "outputs": [],
   "source": [
    "Y = np.array(Y)\n",
    "X = np.stack(X, axis=0)"
   ]
  },
  {
   "cell_type": "code",
   "execution_count": 28,
   "metadata": {},
   "outputs": [],
   "source": [
    "np.save('Train.npy', X)\n",
    "np.save('TrainY.npy', Y)"
   ]
  },
  {
   "cell_type": "code",
   "execution_count": 2,
   "metadata": {},
   "outputs": [],
   "source": [
    "X = np.load('Train.npy')\n",
    "Y = np.load('TrainY.npy')"
   ]
  },
  {
   "cell_type": "code",
   "execution_count": null,
   "metadata": {},
   "outputs": [],
   "source": [
    "X.shape"
   ]
  },
  {
   "cell_type": "code",
   "execution_count": null,
   "metadata": {},
   "outputs": [],
   "source": [
    "Y.shape"
   ]
  },
  {
   "cell_type": "code",
   "execution_count": 10,
   "metadata": {},
   "outputs": [],
   "source": [
    "dataset = tf.data.Dataset.from_tensor_slices((X, Y))"
   ]
  },
  {
   "cell_type": "code",
   "execution_count": null,
   "metadata": {},
   "outputs": [],
   "source": [
    "dataset"
   ]
  }
 ],
 "metadata": {
  "kernelspec": {
   "display_name": "Python 3",
   "language": "python",
   "name": "python3"
  },
  "language_info": {
   "codemirror_mode": {
    "name": "ipython",
    "version": 3
   },
   "file_extension": ".py",
   "mimetype": "text/x-python",
   "name": "python",
   "nbconvert_exporter": "python",
   "pygments_lexer": "ipython3",
   "version": "3.8.0"
  }
 },
 "nbformat": 4,
 "nbformat_minor": 2
}
