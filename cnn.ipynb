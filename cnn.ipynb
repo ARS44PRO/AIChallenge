{
 "cells": [
  {
   "cell_type": "markdown",
   "metadata": {},
   "source": [
    "NOT USING THIS VVV"
   ]
  },
  {
   "cell_type": "markdown",
   "metadata": {},
   "source": [
    "---"
   ]
  },
  {
   "cell_type": "code",
   "execution_count": 10,
   "metadata": {},
   "outputs": [],
   "source": [
    "DATA_PATH = './data'\n",
    "TRAIN_DATA_PATH = f'{DATA_PATH}/train'\n",
    "TASK_DATA_PATH = f'{DATA_PATH}/train'\n",
    "TRAIN_FILENAME = f'{DATA_PATH}/train_gt.csv'\n",
    "TASK_FILENAME = f'{DATA_PATH}/test.csv'"
   ]
  },
  {
   "cell_type": "code",
   "execution_count": 11,
   "metadata": {},
   "outputs": [],
   "source": [
    "import pandas as pd\n",
    "from tqdm import tqdm\n",
    "\n",
    "df = pd.read_csv(TRAIN_FILENAME, header=None, names=['audio', 'label'])[:100]\n",
    "df['audio'] = TRAIN_DATA_PATH + \"/\" + df['audio']\n",
    "\n",
    "x, y = df['audio'], df['label'].to_numpy().reshape(-1, 1)"
   ]
  },
  {
   "cell_type": "code",
   "execution_count": 12,
   "metadata": {},
   "outputs": [],
   "source": [
    "import librosa\n",
    "import numpy as np\n",
    "from transformers import ASTFeatureExtractor\n",
    "\n",
    "feature_extractor = ASTFeatureExtractor()\n",
    "\n",
    "def preprocess_function(audio_path):\n",
    "    y, sr = librosa.load(audio_path)\n",
    "\n",
    "    inputs = feature_extractor(y, return_tensors='np', feature_size=-1, sampling_rate=16000) # Probably not 16000\n",
    "    return inputs['input_values'].reshape(1024, 128, 1)"
   ]
  },
  {
   "cell_type": "code",
   "execution_count": 13,
   "metadata": {},
   "outputs": [
    {
     "name": "stderr",
     "output_type": "stream",
     "text": [
      "100%|██████████| 100/100 [00:00<00:00, 206.65it/s]\n"
     ]
    }
   ],
   "source": [
    "x = np.stack([preprocess_function(audio) for audio in tqdm(x)])"
   ]
  },
  {
   "cell_type": "code",
   "execution_count": 14,
   "metadata": {},
   "outputs": [],
   "source": [
    "import tensorflow as tf\n",
    "import matplotlib.pyplot as plt\n",
    "from tensorflow.keras.models import Sequential\n",
    "from tensorflow.keras.layers import Dense, Flatten, Conv2D, MaxPooling2D\n",
    "from tensorflow.keras.callbacks import EarlyStopping, ModelCheckpoint, TensorBoard\n",
    "from tensorflow.keras import Model"
   ]
  },
  {
   "cell_type": "code",
   "execution_count": 15,
   "metadata": {},
   "outputs": [],
   "source": [
    "class MyModel(Model):\n",
    "  def __init__(self):\n",
    "    super().__init__()\n",
    "    self.conv = Sequential([\n",
    "      Conv2D(32, (3, 3), activation='relu'),\n",
    "      MaxPooling2D(pool_size=(2, 2))\n",
    "    ])\n",
    "    self.flatten = Flatten()\n",
    "    self.denses = Sequential([\n",
    "      Dense(128, activation='relu'),\n",
    "      Dense(1, activation='sigmoid')\n",
    "    ])\n",
    "    \n",
    "\n",
    "  def call(self, x):\n",
    "    x = self.conv(x)\n",
    "    x = self.flatten(x)\n",
    "    x = self.denses(x)\n",
    "    return x\n",
    "\n",
    "model = MyModel()"
   ]
  },
  {
   "cell_type": "code",
   "execution_count": 16,
   "metadata": {},
   "outputs": [],
   "source": [
    "loss_fn = tf.keras.losses.BinaryCrossentropy()\n",
    "optimizer = tf.keras.optimizers.Adam()\n",
    "\n",
    "custom_callbacks = [\n",
    "    EarlyStopping(\n",
    "        monitor='f1_score', \n",
    "        min_delta=1e-5, \n",
    "        patience=5, \n",
    "        verbose=0, \n",
    "        mode='auto', \n",
    "        baseline=None, \n",
    "        restore_best_weights=False\n",
    "    ),\n",
    "    ModelCheckpoint(\n",
    "        './cnn_save/checkpoint.keras', \n",
    "        monitor='f1_score', \n",
    "        verbose=0, \n",
    "        save_best_only=True,\n",
    "        save_weights_only=False, \n",
    "        mode='auto', \n",
    "        save_freq='epoch'\n",
    "    )\n",
    "]\n",
    "\n",
    "model.compile(\n",
    "    optimizer='adam',\n",
    "    loss=loss_fn,\n",
    "    metrics=['accuracy', tf.keras.metrics.F1Score()]\n",
    ")"
   ]
  },
  {
   "cell_type": "code",
   "execution_count": 17,
   "metadata": {},
   "outputs": [
    {
     "name": "stdout",
     "output_type": "stream",
     "text": [
      "Epoch 1/10\n",
      "\u001b[1m4/4\u001b[0m \u001b[32m━━━━━━━━━━━━━━━━━━━━\u001b[0m\u001b[37m\u001b[0m \u001b[1m6s\u001b[0m 2s/step - accuracy: 0.5721 - f1_score: 0.3892 - loss: 57.7684   \n",
      "Epoch 2/10\n",
      "\u001b[1m4/4\u001b[0m \u001b[32m━━━━━━━━━━━━━━━━━━━━\u001b[0m\u001b[37m\u001b[0m \u001b[1m2s\u001b[0m 534ms/step - accuracy: 0.5989 - f1_score: 0.5412 - loss: 18.8755\n",
      "Epoch 3/10\n",
      "\u001b[1m4/4\u001b[0m \u001b[32m━━━━━━━━━━━━━━━━━━━━\u001b[0m\u001b[37m\u001b[0m \u001b[1m2s\u001b[0m 533ms/step - accuracy: 0.6579 - f1_score: 0.4962 - loss: 14.0585\n",
      "Epoch 4/10\n",
      "\u001b[1m4/4\u001b[0m \u001b[32m━━━━━━━━━━━━━━━━━━━━\u001b[0m\u001b[37m\u001b[0m \u001b[1m2s\u001b[0m 534ms/step - accuracy: 0.7707 - f1_score: 0.4962 - loss: 7.9100\n",
      "Epoch 5/10\n",
      "\u001b[1m4/4\u001b[0m \u001b[32m━━━━━━━━━━━━━━━━━━━━\u001b[0m\u001b[37m\u001b[0m \u001b[1m2s\u001b[0m 525ms/step - accuracy: 0.4696 - f1_score: 0.4735 - loss: 4.2462\n",
      "Epoch 6/10\n",
      "\u001b[1m4/4\u001b[0m \u001b[32m━━━━━━━━━━━━━━━━━━━━\u001b[0m\u001b[37m\u001b[0m \u001b[1m2s\u001b[0m 525ms/step - accuracy: 0.7045 - f1_score: 0.4832 - loss: 1.0658\n",
      "Epoch 7/10\n",
      "\u001b[1m4/4\u001b[0m \u001b[32m━━━━━━━━━━━━━━━━━━━━\u001b[0m\u001b[37m\u001b[0m \u001b[1m2s\u001b[0m 531ms/step - accuracy: 0.8311 - f1_score: 0.4622 - loss: 0.7382\n"
     ]
    }
   ],
   "source": [
    "hist = model.fit(x, y, epochs=10, callbacks=custom_callbacks)"
   ]
  },
  {
   "cell_type": "code",
   "execution_count": 18,
   "metadata": {},
   "outputs": [
    {
     "data": {
      "image/png": "[encoded data removed]",
      "text/plain": [
       "<Figure size 800x500 with 1 Axes>"
      ]
     },
     "metadata": {},
     "output_type": "display_data"
    }
   ],
   "source": [
    "pd.DataFrame(hist.history)[['f1_score', 'accuracy']].plot(figsize=(8,5))\n",
    "plt.show()"
   ]
  }
 ],
 "metadata": {
  "kernelspec": {
   "display_name": "Python 3 (ipykernel)",
   "language": "python",
   "name": "python3"
  },
  "language_info": {
   "codemirror_mode": {
    "name": "ipython",
    "version": 3
   },
   "file_extension": ".py",
   "mimetype": "text/x-python",
   "name": "python",
   "nbconvert_exporter": "python",
   "pygments_lexer": "ipython3",
   "version": "3.11.8"
  }
 },
 "nbformat": 4,
 "nbformat_minor": 4
}
